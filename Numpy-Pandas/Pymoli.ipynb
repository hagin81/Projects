{
 "cells": [
  {
   "cell_type": "markdown",
   "metadata": {},
   "source": [
    "**Heroes of Pymoli Data Analysis**"
   ]
  },
  {
   "cell_type": "markdown",
   "metadata": {},
   "source": [
    "** Observed Trend 1:** There are more male players"
   ]
  },
  {
   "cell_type": "markdown",
   "metadata": {},
   "source": [
    "**Observerd Trend 2:** Males players purchased more items"
   ]
  },
  {
   "cell_type": "markdown",
   "metadata": {},
   "source": [
    "** Observed Trend 3:** Players between the ages of 20-24 made the most purchases"
   ]
  },
  {
   "cell_type": "code",
   "execution_count": 701,
   "metadata": {
    "collapsed": true
   },
   "outputs": [],
   "source": [
    "import pandas as pd\n",
    "import numpy as np"
   ]
  },
  {
   "cell_type": "code",
   "execution_count": 702,
   "metadata": {},
   "outputs": [
    {
     "data": {
      "text/html": [
       "<div>\n",
       "<style>\n",
       "    .dataframe thead tr:only-child th {\n",
       "        text-align: right;\n",
       "    }\n",
       "\n",
       "    .dataframe thead th {\n",
       "        text-align: left;\n",
       "    }\n",
       "\n",
       "    .dataframe tbody tr th {\n",
       "        vertical-align: top;\n",
       "    }\n",
       "</style>\n",
       "<table border=\"1\" class=\"dataframe\">\n",
       "  <thead>\n",
       "    <tr style=\"text-align: right;\">\n",
       "      <th></th>\n",
       "      <th>Age</th>\n",
       "      <th>Gender</th>\n",
       "      <th>Item ID</th>\n",
       "      <th>Item Name</th>\n",
       "      <th>Price</th>\n",
       "      <th>SN</th>\n",
       "    </tr>\n",
       "  </thead>\n",
       "  <tbody>\n",
       "    <tr>\n",
       "      <th>0</th>\n",
       "      <td>38</td>\n",
       "      <td>Male</td>\n",
       "      <td>165</td>\n",
       "      <td>Bone Crushing Silver Skewer</td>\n",
       "      <td>3.37</td>\n",
       "      <td>Aelalis34</td>\n",
       "    </tr>\n",
       "    <tr>\n",
       "      <th>1</th>\n",
       "      <td>21</td>\n",
       "      <td>Male</td>\n",
       "      <td>119</td>\n",
       "      <td>Stormbringer, Dark Blade of Ending Misery</td>\n",
       "      <td>2.32</td>\n",
       "      <td>Eolo46</td>\n",
       "    </tr>\n",
       "    <tr>\n",
       "      <th>2</th>\n",
       "      <td>34</td>\n",
       "      <td>Male</td>\n",
       "      <td>174</td>\n",
       "      <td>Primitive Blade</td>\n",
       "      <td>2.46</td>\n",
       "      <td>Assastnya25</td>\n",
       "    </tr>\n",
       "    <tr>\n",
       "      <th>3</th>\n",
       "      <td>21</td>\n",
       "      <td>Male</td>\n",
       "      <td>92</td>\n",
       "      <td>Final Critic</td>\n",
       "      <td>1.36</td>\n",
       "      <td>Pheusrical25</td>\n",
       "    </tr>\n",
       "    <tr>\n",
       "      <th>4</th>\n",
       "      <td>23</td>\n",
       "      <td>Male</td>\n",
       "      <td>63</td>\n",
       "      <td>Stormfury Mace</td>\n",
       "      <td>1.27</td>\n",
       "      <td>Aela59</td>\n",
       "    </tr>\n",
       "    <tr>\n",
       "      <th>5</th>\n",
       "      <td>20</td>\n",
       "      <td>Male</td>\n",
       "      <td>10</td>\n",
       "      <td>Sleepwalker</td>\n",
       "      <td>1.73</td>\n",
       "      <td>Tanimnya91</td>\n",
       "    </tr>\n",
       "    <tr>\n",
       "      <th>6</th>\n",
       "      <td>20</td>\n",
       "      <td>Male</td>\n",
       "      <td>153</td>\n",
       "      <td>Mercenary Sabre</td>\n",
       "      <td>4.57</td>\n",
       "      <td>Undjaskla97</td>\n",
       "    </tr>\n",
       "    <tr>\n",
       "      <th>7</th>\n",
       "      <td>29</td>\n",
       "      <td>Female</td>\n",
       "      <td>169</td>\n",
       "      <td>Interrogator, Blood Blade of the Queen</td>\n",
       "      <td>3.32</td>\n",
       "      <td>Iathenudil29</td>\n",
       "    </tr>\n",
       "    <tr>\n",
       "      <th>8</th>\n",
       "      <td>25</td>\n",
       "      <td>Male</td>\n",
       "      <td>118</td>\n",
       "      <td>Ghost Reaver, Longsword of Magic</td>\n",
       "      <td>2.77</td>\n",
       "      <td>Sondenasta63</td>\n",
       "    </tr>\n",
       "    <tr>\n",
       "      <th>9</th>\n",
       "      <td>31</td>\n",
       "      <td>Male</td>\n",
       "      <td>99</td>\n",
       "      <td>Expiration, Warscythe Of Lost Worlds</td>\n",
       "      <td>4.53</td>\n",
       "      <td>Hilaerin92</td>\n",
       "    </tr>\n",
       "    <tr>\n",
       "      <th>10</th>\n",
       "      <td>24</td>\n",
       "      <td>Male</td>\n",
       "      <td>57</td>\n",
       "      <td>Despair, Favor of Due Diligence</td>\n",
       "      <td>3.81</td>\n",
       "      <td>Chamosia29</td>\n",
       "    </tr>\n",
       "    <tr>\n",
       "      <th>11</th>\n",
       "      <td>20</td>\n",
       "      <td>Male</td>\n",
       "      <td>47</td>\n",
       "      <td>Alpha, Reach of Ending Hope</td>\n",
       "      <td>1.55</td>\n",
       "      <td>Sally64</td>\n",
       "    </tr>\n",
       "    <tr>\n",
       "      <th>12</th>\n",
       "      <td>30</td>\n",
       "      <td>Male</td>\n",
       "      <td>81</td>\n",
       "      <td>Dreamkiss</td>\n",
       "      <td>4.06</td>\n",
       "      <td>Iskossa88</td>\n",
       "    </tr>\n",
       "    <tr>\n",
       "      <th>13</th>\n",
       "      <td>23</td>\n",
       "      <td>Male</td>\n",
       "      <td>77</td>\n",
       "      <td>Piety, Guardian of Riddles</td>\n",
       "      <td>3.68</td>\n",
       "      <td>Seorithstilis90</td>\n",
       "    </tr>\n",
       "    <tr>\n",
       "      <th>14</th>\n",
       "      <td>40</td>\n",
       "      <td>Male</td>\n",
       "      <td>44</td>\n",
       "      <td>Bonecarvin Battle Axe</td>\n",
       "      <td>2.46</td>\n",
       "      <td>Sundast29</td>\n",
       "    </tr>\n",
       "    <tr>\n",
       "      <th>15</th>\n",
       "      <td>21</td>\n",
       "      <td>Male</td>\n",
       "      <td>96</td>\n",
       "      <td>Blood-Forged Skeletal Spine</td>\n",
       "      <td>4.77</td>\n",
       "      <td>Haellysu29</td>\n",
       "    </tr>\n",
       "    <tr>\n",
       "      <th>16</th>\n",
       "      <td>22</td>\n",
       "      <td>Female</td>\n",
       "      <td>123</td>\n",
       "      <td>Twilight's Carver</td>\n",
       "      <td>1.14</td>\n",
       "      <td>Sundista85</td>\n",
       "    </tr>\n",
       "    <tr>\n",
       "      <th>17</th>\n",
       "      <td>22</td>\n",
       "      <td>Female</td>\n",
       "      <td>59</td>\n",
       "      <td>Lightning, Etcher of the King</td>\n",
       "      <td>1.65</td>\n",
       "      <td>Aenarap34</td>\n",
       "    </tr>\n",
       "    <tr>\n",
       "      <th>18</th>\n",
       "      <td>28</td>\n",
       "      <td>Male</td>\n",
       "      <td>91</td>\n",
       "      <td>Celeste</td>\n",
       "      <td>3.71</td>\n",
       "      <td>Iskista88</td>\n",
       "    </tr>\n",
       "    <tr>\n",
       "      <th>19</th>\n",
       "      <td>31</td>\n",
       "      <td>Male</td>\n",
       "      <td>177</td>\n",
       "      <td>Winterthorn, Defender of Shifting Worlds</td>\n",
       "      <td>4.89</td>\n",
       "      <td>Assossa43</td>\n",
       "    </tr>\n",
       "    <tr>\n",
       "      <th>20</th>\n",
       "      <td>24</td>\n",
       "      <td>Male</td>\n",
       "      <td>78</td>\n",
       "      <td>Glimmer, Ender of the Moon</td>\n",
       "      <td>2.33</td>\n",
       "      <td>Irith83</td>\n",
       "    </tr>\n",
       "    <tr>\n",
       "      <th>21</th>\n",
       "      <td>15</td>\n",
       "      <td>Male</td>\n",
       "      <td>3</td>\n",
       "      <td>Phantomlight</td>\n",
       "      <td>1.79</td>\n",
       "      <td>Iaralrgue74</td>\n",
       "    </tr>\n",
       "    <tr>\n",
       "      <th>22</th>\n",
       "      <td>11</td>\n",
       "      <td>Female</td>\n",
       "      <td>11</td>\n",
       "      <td>Brimstone</td>\n",
       "      <td>2.52</td>\n",
       "      <td>Deural48</td>\n",
       "    </tr>\n",
       "    <tr>\n",
       "      <th>23</th>\n",
       "      <td>19</td>\n",
       "      <td>Male</td>\n",
       "      <td>183</td>\n",
       "      <td>Dragon's Greatsword</td>\n",
       "      <td>2.36</td>\n",
       "      <td>Chanosia65</td>\n",
       "    </tr>\n",
       "    <tr>\n",
       "      <th>24</th>\n",
       "      <td>11</td>\n",
       "      <td>Male</td>\n",
       "      <td>65</td>\n",
       "      <td>Conqueror Adamantite Mace</td>\n",
       "      <td>1.96</td>\n",
       "      <td>Qarwen67</td>\n",
       "    </tr>\n",
       "    <tr>\n",
       "      <th>25</th>\n",
       "      <td>21</td>\n",
       "      <td>Male</td>\n",
       "      <td>63</td>\n",
       "      <td>Stormfury Mace</td>\n",
       "      <td>1.27</td>\n",
       "      <td>Idai61</td>\n",
       "    </tr>\n",
       "    <tr>\n",
       "      <th>26</th>\n",
       "      <td>29</td>\n",
       "      <td>Male</td>\n",
       "      <td>132</td>\n",
       "      <td>Persuasion</td>\n",
       "      <td>3.90</td>\n",
       "      <td>Aerithllora36</td>\n",
       "    </tr>\n",
       "    <tr>\n",
       "      <th>27</th>\n",
       "      <td>34</td>\n",
       "      <td>Male</td>\n",
       "      <td>106</td>\n",
       "      <td>Crying Steel Sickle</td>\n",
       "      <td>2.29</td>\n",
       "      <td>Assastnya25</td>\n",
       "    </tr>\n",
       "    <tr>\n",
       "      <th>28</th>\n",
       "      <td>15</td>\n",
       "      <td>Male</td>\n",
       "      <td>49</td>\n",
       "      <td>The Oculus, Token of Lost Worlds</td>\n",
       "      <td>4.23</td>\n",
       "      <td>Ilariarin45</td>\n",
       "    </tr>\n",
       "    <tr>\n",
       "      <th>29</th>\n",
       "      <td>16</td>\n",
       "      <td>Female</td>\n",
       "      <td>45</td>\n",
       "      <td>Glinting Glass Edge</td>\n",
       "      <td>2.46</td>\n",
       "      <td>Phaedai25</td>\n",
       "    </tr>\n",
       "    <tr>\n",
       "      <th>...</th>\n",
       "      <td>...</td>\n",
       "      <td>...</td>\n",
       "      <td>...</td>\n",
       "      <td>...</td>\n",
       "      <td>...</td>\n",
       "      <td>...</td>\n",
       "    </tr>\n",
       "    <tr>\n",
       "      <th>750</th>\n",
       "      <td>23</td>\n",
       "      <td>Male</td>\n",
       "      <td>86</td>\n",
       "      <td>Stormfury Lantern</td>\n",
       "      <td>1.28</td>\n",
       "      <td>Eollym91</td>\n",
       "    </tr>\n",
       "    <tr>\n",
       "      <th>751</th>\n",
       "      <td>26</td>\n",
       "      <td>Female</td>\n",
       "      <td>179</td>\n",
       "      <td>Wolf, Promise of the Moonwalker</td>\n",
       "      <td>1.88</td>\n",
       "      <td>Lisjasksda68</td>\n",
       "    </tr>\n",
       "    <tr>\n",
       "      <th>752</th>\n",
       "      <td>15</td>\n",
       "      <td>Female</td>\n",
       "      <td>116</td>\n",
       "      <td>Renewed Skeletal Katana</td>\n",
       "      <td>2.37</td>\n",
       "      <td>Yalostiphos68</td>\n",
       "    </tr>\n",
       "    <tr>\n",
       "      <th>753</th>\n",
       "      <td>20</td>\n",
       "      <td>Male</td>\n",
       "      <td>4</td>\n",
       "      <td>Bloodlord's Fetish</td>\n",
       "      <td>2.28</td>\n",
       "      <td>Thryallym62</td>\n",
       "    </tr>\n",
       "    <tr>\n",
       "      <th>754</th>\n",
       "      <td>31</td>\n",
       "      <td>Male</td>\n",
       "      <td>104</td>\n",
       "      <td>Gladiator's Glaive</td>\n",
       "      <td>1.36</td>\n",
       "      <td>Sondastan54</td>\n",
       "    </tr>\n",
       "    <tr>\n",
       "      <th>755</th>\n",
       "      <td>22</td>\n",
       "      <td>Female</td>\n",
       "      <td>179</td>\n",
       "      <td>Wolf, Promise of the Moonwalker</td>\n",
       "      <td>1.88</td>\n",
       "      <td>Ailaesuir66</td>\n",
       "    </tr>\n",
       "    <tr>\n",
       "      <th>756</th>\n",
       "      <td>22</td>\n",
       "      <td>Male</td>\n",
       "      <td>6</td>\n",
       "      <td>Rusty Skull</td>\n",
       "      <td>1.20</td>\n",
       "      <td>Siasri67</td>\n",
       "    </tr>\n",
       "    <tr>\n",
       "      <th>757</th>\n",
       "      <td>35</td>\n",
       "      <td>Male</td>\n",
       "      <td>11</td>\n",
       "      <td>Brimstone</td>\n",
       "      <td>2.52</td>\n",
       "      <td>Seosri62</td>\n",
       "    </tr>\n",
       "    <tr>\n",
       "      <th>758</th>\n",
       "      <td>20</td>\n",
       "      <td>Male</td>\n",
       "      <td>122</td>\n",
       "      <td>Unending Tyranny</td>\n",
       "      <td>1.21</td>\n",
       "      <td>Ryastycal90</td>\n",
       "    </tr>\n",
       "    <tr>\n",
       "      <th>759</th>\n",
       "      <td>19</td>\n",
       "      <td>Male</td>\n",
       "      <td>87</td>\n",
       "      <td>Deluge, Edge of the West</td>\n",
       "      <td>2.20</td>\n",
       "      <td>Chanirrasta87</td>\n",
       "    </tr>\n",
       "    <tr>\n",
       "      <th>760</th>\n",
       "      <td>29</td>\n",
       "      <td>Male</td>\n",
       "      <td>81</td>\n",
       "      <td>Dreamkiss</td>\n",
       "      <td>4.06</td>\n",
       "      <td>Aerithllora36</td>\n",
       "    </tr>\n",
       "    <tr>\n",
       "      <th>761</th>\n",
       "      <td>28</td>\n",
       "      <td>Male</td>\n",
       "      <td>175</td>\n",
       "      <td>Woeful Adamantite Claymore</td>\n",
       "      <td>1.24</td>\n",
       "      <td>Raeduerin33</td>\n",
       "    </tr>\n",
       "    <tr>\n",
       "      <th>762</th>\n",
       "      <td>36</td>\n",
       "      <td>Male</td>\n",
       "      <td>52</td>\n",
       "      <td>Hatred</td>\n",
       "      <td>4.39</td>\n",
       "      <td>Lisosiast26</td>\n",
       "    </tr>\n",
       "    <tr>\n",
       "      <th>763</th>\n",
       "      <td>27</td>\n",
       "      <td>Other / Non-Disclosed</td>\n",
       "      <td>48</td>\n",
       "      <td>Rage, Legacy of the Lone Victor</td>\n",
       "      <td>4.32</td>\n",
       "      <td>Eurisuru25</td>\n",
       "    </tr>\n",
       "    <tr>\n",
       "      <th>764</th>\n",
       "      <td>25</td>\n",
       "      <td>Male</td>\n",
       "      <td>70</td>\n",
       "      <td>Hope's End</td>\n",
       "      <td>3.89</td>\n",
       "      <td>Assassasda84</td>\n",
       "    </tr>\n",
       "    <tr>\n",
       "      <th>765</th>\n",
       "      <td>15</td>\n",
       "      <td>Male</td>\n",
       "      <td>13</td>\n",
       "      <td>Serenity</td>\n",
       "      <td>1.49</td>\n",
       "      <td>Aerithnucal56</td>\n",
       "    </tr>\n",
       "    <tr>\n",
       "      <th>766</th>\n",
       "      <td>22</td>\n",
       "      <td>Female</td>\n",
       "      <td>84</td>\n",
       "      <td>Arcane Gem</td>\n",
       "      <td>2.23</td>\n",
       "      <td>Nitherian58</td>\n",
       "    </tr>\n",
       "    <tr>\n",
       "      <th>767</th>\n",
       "      <td>20</td>\n",
       "      <td>Male</td>\n",
       "      <td>122</td>\n",
       "      <td>Unending Tyranny</td>\n",
       "      <td>1.21</td>\n",
       "      <td>Hailaphos89</td>\n",
       "    </tr>\n",
       "    <tr>\n",
       "      <th>768</th>\n",
       "      <td>21</td>\n",
       "      <td>Male</td>\n",
       "      <td>158</td>\n",
       "      <td>Darkheart, Butcher of the Champion</td>\n",
       "      <td>3.56</td>\n",
       "      <td>Chamucosda93</td>\n",
       "    </tr>\n",
       "    <tr>\n",
       "      <th>769</th>\n",
       "      <td>24</td>\n",
       "      <td>Male</td>\n",
       "      <td>73</td>\n",
       "      <td>Ritual Mace</td>\n",
       "      <td>3.74</td>\n",
       "      <td>Frichilsasya78</td>\n",
       "    </tr>\n",
       "    <tr>\n",
       "      <th>770</th>\n",
       "      <td>22</td>\n",
       "      <td>Male</td>\n",
       "      <td>141</td>\n",
       "      <td>Persuasion</td>\n",
       "      <td>3.27</td>\n",
       "      <td>Aenasu69</td>\n",
       "    </tr>\n",
       "    <tr>\n",
       "      <th>771</th>\n",
       "      <td>24</td>\n",
       "      <td>Male</td>\n",
       "      <td>25</td>\n",
       "      <td>Hero Cane</td>\n",
       "      <td>1.03</td>\n",
       "      <td>Lassista97</td>\n",
       "    </tr>\n",
       "    <tr>\n",
       "      <th>772</th>\n",
       "      <td>15</td>\n",
       "      <td>Male</td>\n",
       "      <td>31</td>\n",
       "      <td>Trickster</td>\n",
       "      <td>2.07</td>\n",
       "      <td>Sidap51</td>\n",
       "    </tr>\n",
       "    <tr>\n",
       "      <th>773</th>\n",
       "      <td>21</td>\n",
       "      <td>Male</td>\n",
       "      <td>44</td>\n",
       "      <td>Bonecarvin Battle Axe</td>\n",
       "      <td>2.46</td>\n",
       "      <td>Chamadarsda63</td>\n",
       "    </tr>\n",
       "    <tr>\n",
       "      <th>774</th>\n",
       "      <td>24</td>\n",
       "      <td>Male</td>\n",
       "      <td>123</td>\n",
       "      <td>Twilight's Carver</td>\n",
       "      <td>1.14</td>\n",
       "      <td>Lassassast73</td>\n",
       "    </tr>\n",
       "    <tr>\n",
       "      <th>775</th>\n",
       "      <td>22</td>\n",
       "      <td>Male</td>\n",
       "      <td>98</td>\n",
       "      <td>Deadline, Voice Of Subtlety</td>\n",
       "      <td>3.62</td>\n",
       "      <td>Eural50</td>\n",
       "    </tr>\n",
       "    <tr>\n",
       "      <th>776</th>\n",
       "      <td>14</td>\n",
       "      <td>Male</td>\n",
       "      <td>104</td>\n",
       "      <td>Gladiator's Glaive</td>\n",
       "      <td>1.36</td>\n",
       "      <td>Lirtossa78</td>\n",
       "    </tr>\n",
       "    <tr>\n",
       "      <th>777</th>\n",
       "      <td>20</td>\n",
       "      <td>Male</td>\n",
       "      <td>117</td>\n",
       "      <td>Heartstriker, Legacy of the Light</td>\n",
       "      <td>4.15</td>\n",
       "      <td>Tillyrin30</td>\n",
       "    </tr>\n",
       "    <tr>\n",
       "      <th>778</th>\n",
       "      <td>20</td>\n",
       "      <td>Male</td>\n",
       "      <td>75</td>\n",
       "      <td>Brutality Ivory Warmace</td>\n",
       "      <td>1.72</td>\n",
       "      <td>Quelaton80</td>\n",
       "    </tr>\n",
       "    <tr>\n",
       "      <th>779</th>\n",
       "      <td>23</td>\n",
       "      <td>Female</td>\n",
       "      <td>107</td>\n",
       "      <td>Splitter, Foe Of Subtlety</td>\n",
       "      <td>3.61</td>\n",
       "      <td>Alim85</td>\n",
       "    </tr>\n",
       "  </tbody>\n",
       "</table>\n",
       "<p>780 rows × 6 columns</p>\n",
       "</div>"
      ],
      "text/plain": [
       "     Age                 Gender  Item ID  \\\n",
       "0     38                   Male      165   \n",
       "1     21                   Male      119   \n",
       "2     34                   Male      174   \n",
       "3     21                   Male       92   \n",
       "4     23                   Male       63   \n",
       "5     20                   Male       10   \n",
       "6     20                   Male      153   \n",
       "7     29                 Female      169   \n",
       "8     25                   Male      118   \n",
       "9     31                   Male       99   \n",
       "10    24                   Male       57   \n",
       "11    20                   Male       47   \n",
       "12    30                   Male       81   \n",
       "13    23                   Male       77   \n",
       "14    40                   Male       44   \n",
       "15    21                   Male       96   \n",
       "16    22                 Female      123   \n",
       "17    22                 Female       59   \n",
       "18    28                   Male       91   \n",
       "19    31                   Male      177   \n",
       "20    24                   Male       78   \n",
       "21    15                   Male        3   \n",
       "22    11                 Female       11   \n",
       "23    19                   Male      183   \n",
       "24    11                   Male       65   \n",
       "25    21                   Male       63   \n",
       "26    29                   Male      132   \n",
       "27    34                   Male      106   \n",
       "28    15                   Male       49   \n",
       "29    16                 Female       45   \n",
       "..   ...                    ...      ...   \n",
       "750   23                   Male       86   \n",
       "751   26                 Female      179   \n",
       "752   15                 Female      116   \n",
       "753   20                   Male        4   \n",
       "754   31                   Male      104   \n",
       "755   22                 Female      179   \n",
       "756   22                   Male        6   \n",
       "757   35                   Male       11   \n",
       "758   20                   Male      122   \n",
       "759   19                   Male       87   \n",
       "760   29                   Male       81   \n",
       "761   28                   Male      175   \n",
       "762   36                   Male       52   \n",
       "763   27  Other / Non-Disclosed       48   \n",
       "764   25                   Male       70   \n",
       "765   15                   Male       13   \n",
       "766   22                 Female       84   \n",
       "767   20                   Male      122   \n",
       "768   21                   Male      158   \n",
       "769   24                   Male       73   \n",
       "770   22                   Male      141   \n",
       "771   24                   Male       25   \n",
       "772   15                   Male       31   \n",
       "773   21                   Male       44   \n",
       "774   24                   Male      123   \n",
       "775   22                   Male       98   \n",
       "776   14                   Male      104   \n",
       "777   20                   Male      117   \n",
       "778   20                   Male       75   \n",
       "779   23                 Female      107   \n",
       "\n",
       "                                     Item Name  Price               SN  \n",
       "0                  Bone Crushing Silver Skewer   3.37        Aelalis34  \n",
       "1    Stormbringer, Dark Blade of Ending Misery   2.32           Eolo46  \n",
       "2                              Primitive Blade   2.46      Assastnya25  \n",
       "3                                 Final Critic   1.36     Pheusrical25  \n",
       "4                               Stormfury Mace   1.27           Aela59  \n",
       "5                                  Sleepwalker   1.73       Tanimnya91  \n",
       "6                              Mercenary Sabre   4.57      Undjaskla97  \n",
       "7       Interrogator, Blood Blade of the Queen   3.32     Iathenudil29  \n",
       "8             Ghost Reaver, Longsword of Magic   2.77     Sondenasta63  \n",
       "9         Expiration, Warscythe Of Lost Worlds   4.53       Hilaerin92  \n",
       "10             Despair, Favor of Due Diligence   3.81       Chamosia29  \n",
       "11                 Alpha, Reach of Ending Hope   1.55          Sally64  \n",
       "12                                   Dreamkiss   4.06        Iskossa88  \n",
       "13                  Piety, Guardian of Riddles   3.68  Seorithstilis90  \n",
       "14                       Bonecarvin Battle Axe   2.46        Sundast29  \n",
       "15                 Blood-Forged Skeletal Spine   4.77       Haellysu29  \n",
       "16                           Twilight's Carver   1.14       Sundista85  \n",
       "17               Lightning, Etcher of the King   1.65        Aenarap34  \n",
       "18                                     Celeste   3.71        Iskista88  \n",
       "19    Winterthorn, Defender of Shifting Worlds   4.89        Assossa43  \n",
       "20                  Glimmer, Ender of the Moon   2.33          Irith83  \n",
       "21                                Phantomlight   1.79      Iaralrgue74  \n",
       "22                                   Brimstone   2.52         Deural48  \n",
       "23                         Dragon's Greatsword   2.36       Chanosia65  \n",
       "24                   Conqueror Adamantite Mace   1.96         Qarwen67  \n",
       "25                              Stormfury Mace   1.27           Idai61  \n",
       "26                                  Persuasion   3.90    Aerithllora36  \n",
       "27                         Crying Steel Sickle   2.29      Assastnya25  \n",
       "28            The Oculus, Token of Lost Worlds   4.23      Ilariarin45  \n",
       "29                         Glinting Glass Edge   2.46        Phaedai25  \n",
       "..                                         ...    ...              ...  \n",
       "750                          Stormfury Lantern   1.28         Eollym91  \n",
       "751            Wolf, Promise of the Moonwalker   1.88     Lisjasksda68  \n",
       "752                    Renewed Skeletal Katana   2.37    Yalostiphos68  \n",
       "753                         Bloodlord's Fetish   2.28      Thryallym62  \n",
       "754                         Gladiator's Glaive   1.36      Sondastan54  \n",
       "755            Wolf, Promise of the Moonwalker   1.88      Ailaesuir66  \n",
       "756                                Rusty Skull   1.20         Siasri67  \n",
       "757                                  Brimstone   2.52         Seosri62  \n",
       "758                           Unending Tyranny   1.21      Ryastycal90  \n",
       "759                   Deluge, Edge of the West   2.20    Chanirrasta87  \n",
       "760                                  Dreamkiss   4.06    Aerithllora36  \n",
       "761                 Woeful Adamantite Claymore   1.24      Raeduerin33  \n",
       "762                                     Hatred   4.39      Lisosiast26  \n",
       "763            Rage, Legacy of the Lone Victor   4.32       Eurisuru25  \n",
       "764                                 Hope's End   3.89     Assassasda84  \n",
       "765                                   Serenity   1.49    Aerithnucal56  \n",
       "766                                 Arcane Gem   2.23      Nitherian58  \n",
       "767                           Unending Tyranny   1.21      Hailaphos89  \n",
       "768         Darkheart, Butcher of the Champion   3.56     Chamucosda93  \n",
       "769                                Ritual Mace   3.74   Frichilsasya78  \n",
       "770                                 Persuasion   3.27         Aenasu69  \n",
       "771                                  Hero Cane   1.03       Lassista97  \n",
       "772                                  Trickster   2.07          Sidap51  \n",
       "773                      Bonecarvin Battle Axe   2.46    Chamadarsda63  \n",
       "774                          Twilight's Carver   1.14     Lassassast73  \n",
       "775                Deadline, Voice Of Subtlety   3.62          Eural50  \n",
       "776                         Gladiator's Glaive   1.36       Lirtossa78  \n",
       "777          Heartstriker, Legacy of the Light   4.15       Tillyrin30  \n",
       "778                    Brutality Ivory Warmace   1.72       Quelaton80  \n",
       "779                  Splitter, Foe Of Subtlety   3.61           Alim85  \n",
       "\n",
       "[780 rows x 6 columns]"
      ]
     },
     "execution_count": 702,
     "metadata": {},
     "output_type": "execute_result"
    }
   ],
   "source": [
    "df=pd.read_json(\"purchase_data.json\")\n",
    "df"
   ]
  },
  {
   "cell_type": "code",
   "execution_count": null,
   "metadata": {
    "collapsed": true
   },
   "outputs": [],
   "source": []
  },
  {
   "cell_type": "code",
   "execution_count": null,
   "metadata": {
    "collapsed": true
   },
   "outputs": [],
   "source": []
  },
  {
   "cell_type": "markdown",
   "metadata": {},
   "source": [
    "**Player Count**"
   ]
  },
  {
   "cell_type": "code",
   "execution_count": 703,
   "metadata": {},
   "outputs": [
    {
     "data": {
      "text/plain": [
       "573"
      ]
     },
     "execution_count": 703,
     "metadata": {},
     "output_type": "execute_result"
    }
   ],
   "source": [
    "# unique player count\n",
    "number_of_players = df['SN'].nunique()\n",
    "number_of_players"
   ]
  },
  {
   "cell_type": "code",
   "execution_count": 704,
   "metadata": {},
   "outputs": [
    {
     "data": {
      "text/html": [
       "<div>\n",
       "<style>\n",
       "    .dataframe thead tr:only-child th {\n",
       "        text-align: right;\n",
       "    }\n",
       "\n",
       "    .dataframe thead th {\n",
       "        text-align: left;\n",
       "    }\n",
       "\n",
       "    .dataframe tbody tr th {\n",
       "        vertical-align: top;\n",
       "    }\n",
       "</style>\n",
       "<table border=\"1\" class=\"dataframe\">\n",
       "  <thead>\n",
       "    <tr style=\"text-align: right;\">\n",
       "      <th></th>\n",
       "      <th>Number of Players</th>\n",
       "    </tr>\n",
       "  </thead>\n",
       "  <tbody>\n",
       "    <tr>\n",
       "      <th>0</th>\n",
       "      <td>573</td>\n",
       "    </tr>\n",
       "  </tbody>\n",
       "</table>\n",
       "</div>"
      ],
      "text/plain": [
       "   Number of Players\n",
       "0                573"
      ]
     },
     "execution_count": 704,
     "metadata": {},
     "output_type": "execute_result"
    }
   ],
   "source": [
    "#pd.DataFrame([number_of_players], columns=['Number of Players'])\n",
    "pd.DataFrame([number_of_players], columns =['Number of Players'])"
   ]
  },
  {
   "cell_type": "code",
   "execution_count": null,
   "metadata": {
    "collapsed": true
   },
   "outputs": [],
   "source": []
  },
  {
   "cell_type": "code",
   "execution_count": null,
   "metadata": {
    "collapsed": true
   },
   "outputs": [],
   "source": [
    "\n",
    "\n",
    "\n",
    "\n",
    "\n"
   ]
  },
  {
   "cell_type": "markdown",
   "metadata": {},
   "source": [
    "**Purchasing Analysis (Total)**"
   ]
  },
  {
   "cell_type": "code",
   "execution_count": 705,
   "metadata": {},
   "outputs": [
    {
     "data": {
      "text/plain": [
       "183"
      ]
     },
     "execution_count": 705,
     "metadata": {},
     "output_type": "execute_result"
    }
   ],
   "source": [
    "# number of unique items\n",
    "number_of_unique_items = df['Item ID'].nunique()\n",
    "number_of_unique_items"
   ]
  },
  {
   "cell_type": "code",
   "execution_count": 706,
   "metadata": {},
   "outputs": [
    {
     "data": {
      "text/plain": [
       "'2.93'"
      ]
     },
     "execution_count": 706,
     "metadata": {},
     "output_type": "execute_result"
    }
   ],
   "source": [
    "# average purchase price\n",
    "average_purchase_price = df['Price'].mean()\n",
    "average_purchase_price = str(round( average_purchase_price, 2))\n",
    "average_purchase_price"
   ]
  },
  {
   "cell_type": "code",
   "execution_count": 707,
   "metadata": {
    "scrolled": true
   },
   "outputs": [
    {
     "data": {
      "text/plain": [
       "780"
      ]
     },
     "execution_count": 707,
     "metadata": {},
     "output_type": "execute_result"
    }
   ],
   "source": [
    "# total number of purchases \n",
    "total_number_of_purchases = df.shape[0]\n",
    "total_number_of_purchases"
   ]
  },
  {
   "cell_type": "code",
   "execution_count": 708,
   "metadata": {},
   "outputs": [
    {
     "data": {
      "text/plain": [
       "'$2286.33'"
      ]
     },
     "execution_count": 708,
     "metadata": {},
     "output_type": "execute_result"
    }
   ],
   "source": [
    "# total revenue\n",
    "total_revenue = df['Price'].sum()\n",
    "total_revenue = '$' + str(round(total_revenue, 2))\n",
    "total_revenue"
   ]
  },
  {
   "cell_type": "code",
   "execution_count": 709,
   "metadata": {},
   "outputs": [],
   "source": [
    "data = {'Number of Unique Items': number_of_unique_items,\n",
    "       'Average Price': average_purchase_price,\n",
    "       'Number of Purchases': total_number_of_purchases,\n",
    "       'Total Revenue': total_revenue}"
   ]
  },
  {
   "cell_type": "code",
   "execution_count": 710,
   "metadata": {},
   "outputs": [
    {
     "data": {
      "text/html": [
       "<div>\n",
       "<style>\n",
       "    .dataframe thead tr:only-child th {\n",
       "        text-align: right;\n",
       "    }\n",
       "\n",
       "    .dataframe thead th {\n",
       "        text-align: left;\n",
       "    }\n",
       "\n",
       "    .dataframe tbody tr th {\n",
       "        vertical-align: top;\n",
       "    }\n",
       "</style>\n",
       "<table border=\"1\" class=\"dataframe\">\n",
       "  <thead>\n",
       "    <tr style=\"text-align: right;\">\n",
       "      <th></th>\n",
       "      <th>Average Price</th>\n",
       "      <th>Number of Purchases</th>\n",
       "      <th>Number of Unique Items</th>\n",
       "      <th>Total Revenue</th>\n",
       "    </tr>\n",
       "  </thead>\n",
       "  <tbody>\n",
       "    <tr>\n",
       "      <th>0</th>\n",
       "      <td>2.93</td>\n",
       "      <td>780</td>\n",
       "      <td>183</td>\n",
       "      <td>$2286.33</td>\n",
       "    </tr>\n",
       "  </tbody>\n",
       "</table>\n",
       "</div>"
      ],
      "text/plain": [
       "  Average Price  Number of Purchases  Number of Unique Items Total Revenue\n",
       "0          2.93                  780                     183      $2286.33"
      ]
     },
     "execution_count": 710,
     "metadata": {},
     "output_type": "execute_result"
    }
   ],
   "source": [
    "pd.DataFrame([data])"
   ]
  },
  {
   "cell_type": "code",
   "execution_count": null,
   "metadata": {
    "collapsed": true
   },
   "outputs": [],
   "source": []
  },
  {
   "cell_type": "code",
   "execution_count": null,
   "metadata": {
    "collapsed": true
   },
   "outputs": [],
   "source": []
  },
  {
   "cell_type": "markdown",
   "metadata": {},
   "source": [
    "**Gender Demographics**"
   ]
  },
  {
   "cell_type": "code",
   "execution_count": 711,
   "metadata": {},
   "outputs": [
    {
     "data": {
      "text/plain": [
       "573"
      ]
     },
     "execution_count": 711,
     "metadata": {},
     "output_type": "execute_result"
    }
   ],
   "source": [
    "# unique player counts\n",
    "counts = df.groupby('Gender').nunique()['SN']\n",
    "counts\n",
    "\n",
    "# total player count ( unique )\n",
    "total_count = counts.sum()\n",
    "total_count"
   ]
  },
  {
   "cell_type": "code",
   "execution_count": 712,
   "metadata": {},
   "outputs": [],
   "source": [
    "male = counts[1]\n",
    "female = counts[0]\n",
    "other = counts[2]\n",
    "percentage_male = ( male/total_count) * 100\n",
    "percentage_female = ( female/total_count) * 100\n",
    "percentage_other = ( other/total_count) * 100"
   ]
  },
  {
   "cell_type": "code",
   "execution_count": 713,
   "metadata": {},
   "outputs": [],
   "source": [
    "#gender_counts = {male:percentage_male, female: percentage_female, other: percentage_other}\n",
    "gender_counts\n",
    "labels = ['Percentage of Players', 'Total Count']\n",
    "gender_counts = [(percentage_male, male), \n",
    "                 (percentage_female, female), \n",
    "                 (percentage_other, other)]\n"
   ]
  },
  {
   "cell_type": "code",
   "execution_count": 714,
   "metadata": {
    "scrolled": true
   },
   "outputs": [
    {
     "data": {
      "text/html": [
       "<div>\n",
       "<style>\n",
       "    .dataframe thead tr:only-child th {\n",
       "        text-align: right;\n",
       "    }\n",
       "\n",
       "    .dataframe thead th {\n",
       "        text-align: left;\n",
       "    }\n",
       "\n",
       "    .dataframe tbody tr th {\n",
       "        vertical-align: top;\n",
       "    }\n",
       "</style>\n",
       "<table border=\"1\" class=\"dataframe\">\n",
       "  <thead>\n",
       "    <tr style=\"text-align: right;\">\n",
       "      <th></th>\n",
       "      <th>Percentage of Players</th>\n",
       "      <th>Total Count</th>\n",
       "    </tr>\n",
       "  </thead>\n",
       "  <tbody>\n",
       "    <tr>\n",
       "      <th>male</th>\n",
       "      <td>81.151832</td>\n",
       "      <td>465</td>\n",
       "    </tr>\n",
       "    <tr>\n",
       "      <th>female</th>\n",
       "      <td>17.452007</td>\n",
       "      <td>100</td>\n",
       "    </tr>\n",
       "    <tr>\n",
       "      <th>other</th>\n",
       "      <td>1.396161</td>\n",
       "      <td>8</td>\n",
       "    </tr>\n",
       "  </tbody>\n",
       "</table>\n",
       "</div>"
      ],
      "text/plain": [
       "        Percentage of Players  Total Count\n",
       "male                81.151832          465\n",
       "female              17.452007          100\n",
       "other                1.396161            8"
      ]
     },
     "execution_count": 714,
     "metadata": {},
     "output_type": "execute_result"
    }
   ],
   "source": [
    "pd.DataFrame.from_records(gender_counts, columns=labels, index=['male', 'female', 'other'])"
   ]
  },
  {
   "cell_type": "code",
   "execution_count": null,
   "metadata": {
    "collapsed": true
   },
   "outputs": [],
   "source": []
  },
  {
   "cell_type": "code",
   "execution_count": null,
   "metadata": {
    "collapsed": true
   },
   "outputs": [],
   "source": []
  },
  {
   "cell_type": "markdown",
   "metadata": {},
   "source": [
    "**Purchasing Analysis (Gender)**\n"
   ]
  },
  {
   "cell_type": "code",
   "execution_count": 715,
   "metadata": {},
   "outputs": [
    {
     "data": {
      "text/plain": [
       "Male                     633\n",
       "Female                   136\n",
       "Other / Non-Disclosed     11\n",
       "Name: Gender, dtype: int64"
      ]
     },
     "execution_count": 715,
     "metadata": {},
     "output_type": "execute_result"
    }
   ],
   "source": [
    "# purchase count \n",
    "purchase_count = df['Gender'].value_counts()\n",
    "purchase_count"
   ]
  },
  {
   "cell_type": "code",
   "execution_count": 716,
   "metadata": {},
   "outputs": [
    {
     "data": {
      "text/plain": [
       "Gender\n",
       "Female                   2.815515\n",
       "Male                     2.950521\n",
       "Other / Non-Disclosed    3.249091\n",
       "Name: Price, dtype: float64"
      ]
     },
     "execution_count": 716,
     "metadata": {},
     "output_type": "execute_result"
    }
   ],
   "source": [
    "# average purchase by gender\n",
    "avg_purchase_by_gender = df.groupby('Gender')['Price'].mean()\n",
    "avg_purchase_by_gender"
   ]
  },
  {
   "cell_type": "code",
   "execution_count": 717,
   "metadata": {},
   "outputs": [
    {
     "data": {
      "text/plain": [
       "Gender\n",
       "Female                    382.91\n",
       "Male                     1867.68\n",
       "Other / Non-Disclosed      35.74\n",
       "Name: Price, dtype: float64"
      ]
     },
     "execution_count": 717,
     "metadata": {},
     "output_type": "execute_result"
    }
   ],
   "source": [
    "# total purchase value\n",
    "total_purchase_value = df.groupby('Gender')['Price'].sum()\n",
    "total_purchase_value"
   ]
  },
  {
   "cell_type": "code",
   "execution_count": 718,
   "metadata": {},
   "outputs": [
    {
     "data": {
      "text/html": [
       "<div>\n",
       "<style>\n",
       "    .dataframe thead tr:only-child th {\n",
       "        text-align: right;\n",
       "    }\n",
       "\n",
       "    .dataframe thead th {\n",
       "        text-align: left;\n",
       "    }\n",
       "\n",
       "    .dataframe tbody tr th {\n",
       "        vertical-align: top;\n",
       "    }\n",
       "</style>\n",
       "<table border=\"1\" class=\"dataframe\">\n",
       "  <thead>\n",
       "    <tr style=\"text-align: right;\">\n",
       "      <th></th>\n",
       "      <th>Average Purchase Price</th>\n",
       "      <th>Purchase Count</th>\n",
       "      <th>Total Purchase Value</th>\n",
       "    </tr>\n",
       "  </thead>\n",
       "  <tbody>\n",
       "    <tr>\n",
       "      <th>Female</th>\n",
       "      <td>2.815515</td>\n",
       "      <td>136</td>\n",
       "      <td>382.91</td>\n",
       "    </tr>\n",
       "    <tr>\n",
       "      <th>Male</th>\n",
       "      <td>2.950521</td>\n",
       "      <td>633</td>\n",
       "      <td>1867.68</td>\n",
       "    </tr>\n",
       "    <tr>\n",
       "      <th>Other / Non-Disclosed</th>\n",
       "      <td>3.249091</td>\n",
       "      <td>11</td>\n",
       "      <td>35.74</td>\n",
       "    </tr>\n",
       "  </tbody>\n",
       "</table>\n",
       "</div>"
      ],
      "text/plain": [
       "                       Average Purchase Price  Purchase Count  \\\n",
       "Female                               2.815515             136   \n",
       "Male                                 2.950521             633   \n",
       "Other / Non-Disclosed                3.249091              11   \n",
       "\n",
       "                       Total Purchase Value  \n",
       "Female                               382.91  \n",
       "Male                                1867.68  \n",
       "Other / Non-Disclosed                 35.74  "
      ]
     },
     "execution_count": 718,
     "metadata": {},
     "output_type": "execute_result"
    }
   ],
   "source": [
    "pd.DataFrame({'Purchase Count': purchase_count, \n",
    "              'Average Purchase Price': avg_purchase_by_gender,\n",
    "              'Total Purchase Value': total_purchase_value\n",
    "             })"
   ]
  },
  {
   "cell_type": "code",
   "execution_count": null,
   "metadata": {
    "collapsed": true
   },
   "outputs": [],
   "source": []
  },
  {
   "cell_type": "code",
   "execution_count": null,
   "metadata": {
    "collapsed": true
   },
   "outputs": [],
   "source": []
  },
  {
   "cell_type": "markdown",
   "metadata": {},
   "source": [
    "**Age Demographics**"
   ]
  },
  {
   "cell_type": "code",
   "execution_count": 719,
   "metadata": {
    "collapsed": true
   },
   "outputs": [],
   "source": [
    "# bins for each age group\n",
    "bins = [ 1, 9, 10, 14, 15, 19, 20, 24, 25, 29, 30, 34, 35, 39, 40]"
   ]
  },
  {
   "cell_type": "code",
   "execution_count": 720,
   "metadata": {},
   "outputs": [],
   "source": [
    "# purchase count\n",
    "groups = df.groupby( pd.cut( df['Age'], bins) )\n",
    "age_pur_count = groups.Price.count()"
   ]
  },
  {
   "cell_type": "code",
   "execution_count": 721,
   "metadata": {},
   "outputs": [
    {
     "data": {
      "text/plain": [
       "Age\n",
       "(1, 9]      2.980714\n",
       "(9, 10]     3.290000\n",
       "(10, 14]    2.702903\n",
       "(14, 15]    2.986383\n",
       "(15, 19]    2.861163\n",
       "(19, 20]    2.884490\n",
       "(20, 24]    2.924748\n",
       "(24, 25]    3.082388\n",
       "(25, 29]    2.824310\n",
       "(29, 30]    3.111667\n",
       "(30, 34]    3.070435\n",
       "(34, 35]    3.085000\n",
       "(35, 39]    2.746000\n",
       "(39, 40]    3.222143\n",
       "Name: Price, dtype: float64"
      ]
     },
     "execution_count": 721,
     "metadata": {},
     "output_type": "execute_result"
    }
   ],
   "source": [
    "# average purchase value\n",
    "\n",
    "\n",
    "\n",
    "\n",
    "\n",
    "\n",
    "age_avg_price = groups.Price.mean()\n",
    "age_avg_price"
   ]
  },
  {
   "cell_type": "code",
   "execution_count": 722,
   "metadata": {
    "collapsed": true
   },
   "outputs": [],
   "source": [
    "# total purchase value\n",
    "\n",
    "\n",
    "age_total_purchase = groups.Price.sum()"
   ]
  },
  {
   "cell_type": "code",
   "execution_count": 723,
   "metadata": {},
   "outputs": [
    {
     "data": {
      "text/html": [
       "<div>\n",
       "<style>\n",
       "    .dataframe thead tr:only-child th {\n",
       "        text-align: right;\n",
       "    }\n",
       "\n",
       "    .dataframe thead th {\n",
       "        text-align: left;\n",
       "    }\n",
       "\n",
       "    .dataframe tbody tr th {\n",
       "        vertical-align: top;\n",
       "    }\n",
       "</style>\n",
       "<table border=\"1\" class=\"dataframe\">\n",
       "  <thead>\n",
       "    <tr style=\"text-align: right;\">\n",
       "      <th></th>\n",
       "      <th>Average Purchase Price</th>\n",
       "      <th>Purchase Count</th>\n",
       "      <th>Total Purchase</th>\n",
       "    </tr>\n",
       "    <tr>\n",
       "      <th>Age</th>\n",
       "      <th></th>\n",
       "      <th></th>\n",
       "      <th></th>\n",
       "    </tr>\n",
       "  </thead>\n",
       "  <tbody>\n",
       "    <tr>\n",
       "      <th>(1, 9]</th>\n",
       "      <td>2.980714</td>\n",
       "      <td>28</td>\n",
       "      <td>83.46</td>\n",
       "    </tr>\n",
       "    <tr>\n",
       "      <th>(9, 10]</th>\n",
       "      <td>3.290000</td>\n",
       "      <td>4</td>\n",
       "      <td>13.16</td>\n",
       "    </tr>\n",
       "    <tr>\n",
       "      <th>(10, 14]</th>\n",
       "      <td>2.702903</td>\n",
       "      <td>31</td>\n",
       "      <td>83.79</td>\n",
       "    </tr>\n",
       "    <tr>\n",
       "      <th>(14, 15]</th>\n",
       "      <td>2.986383</td>\n",
       "      <td>47</td>\n",
       "      <td>140.36</td>\n",
       "    </tr>\n",
       "    <tr>\n",
       "      <th>(15, 19]</th>\n",
       "      <td>2.861163</td>\n",
       "      <td>86</td>\n",
       "      <td>246.06</td>\n",
       "    </tr>\n",
       "    <tr>\n",
       "      <th>(19, 20]</th>\n",
       "      <td>2.884490</td>\n",
       "      <td>98</td>\n",
       "      <td>282.68</td>\n",
       "    </tr>\n",
       "    <tr>\n",
       "      <th>(20, 24]</th>\n",
       "      <td>2.924748</td>\n",
       "      <td>238</td>\n",
       "      <td>696.09</td>\n",
       "    </tr>\n",
       "    <tr>\n",
       "      <th>(24, 25]</th>\n",
       "      <td>3.082388</td>\n",
       "      <td>67</td>\n",
       "      <td>206.52</td>\n",
       "    </tr>\n",
       "    <tr>\n",
       "      <th>(25, 29]</th>\n",
       "      <td>2.824310</td>\n",
       "      <td>58</td>\n",
       "      <td>163.81</td>\n",
       "    </tr>\n",
       "    <tr>\n",
       "      <th>(29, 30]</th>\n",
       "      <td>3.111667</td>\n",
       "      <td>18</td>\n",
       "      <td>56.01</td>\n",
       "    </tr>\n",
       "    <tr>\n",
       "      <th>(30, 34]</th>\n",
       "      <td>3.070435</td>\n",
       "      <td>46</td>\n",
       "      <td>141.24</td>\n",
       "    </tr>\n",
       "    <tr>\n",
       "      <th>(34, 35]</th>\n",
       "      <td>3.085000</td>\n",
       "      <td>12</td>\n",
       "      <td>37.02</td>\n",
       "    </tr>\n",
       "    <tr>\n",
       "      <th>(35, 39]</th>\n",
       "      <td>2.746000</td>\n",
       "      <td>30</td>\n",
       "      <td>82.38</td>\n",
       "    </tr>\n",
       "    <tr>\n",
       "      <th>(39, 40]</th>\n",
       "      <td>3.222143</td>\n",
       "      <td>14</td>\n",
       "      <td>45.11</td>\n",
       "    </tr>\n",
       "  </tbody>\n",
       "</table>\n",
       "</div>"
      ],
      "text/plain": [
       "          Average Purchase Price  Purchase Count  Total Purchase\n",
       "Age                                                             \n",
       "(1, 9]                  2.980714              28           83.46\n",
       "(9, 10]                 3.290000               4           13.16\n",
       "(10, 14]                2.702903              31           83.79\n",
       "(14, 15]                2.986383              47          140.36\n",
       "(15, 19]                2.861163              86          246.06\n",
       "(19, 20]                2.884490              98          282.68\n",
       "(20, 24]                2.924748             238          696.09\n",
       "(24, 25]                3.082388              67          206.52\n",
       "(25, 29]                2.824310              58          163.81\n",
       "(29, 30]                3.111667              18           56.01\n",
       "(30, 34]                3.070435              46          141.24\n",
       "(34, 35]                3.085000              12           37.02\n",
       "(35, 39]                2.746000              30           82.38\n",
       "(39, 40]                3.222143              14           45.11"
      ]
     },
     "execution_count": 723,
     "metadata": {},
     "output_type": "execute_result"
    }
   ],
   "source": [
    "pd.DataFrame( { 'Purchase Count': age_pur_count,\n",
    "                'Average Purchase Price': age_avg_price,\n",
    "                'Total Purchase': age_total_purchase\n",
    "              })"
   ]
  },
  {
   "cell_type": "code",
   "execution_count": null,
   "metadata": {
    "collapsed": true
   },
   "outputs": [],
   "source": []
  },
  {
   "cell_type": "code",
   "execution_count": null,
   "metadata": {
    "collapsed": true
   },
   "outputs": [],
   "source": []
  },
  {
   "cell_type": "markdown",
   "metadata": {},
   "source": [
    "**Top Spenders**"
   ]
  },
  {
   "cell_type": "code",
   "execution_count": 724,
   "metadata": {},
   "outputs": [],
   "source": [
    "# top spenders\n",
    "top_spenders = df.groupby(\"SN\")\n",
    "purchase_count = top_spenders['SN'].count()\n"
   ]
  },
  {
   "cell_type": "code",
   "execution_count": 725,
   "metadata": {},
   "outputs": [],
   "source": [
    "average_pur_price = top_spenders['Price'].mean()\n",
    "\n",
    "\n",
    "\n"
   ]
  },
  {
   "cell_type": "code",
   "execution_count": 726,
   "metadata": {},
   "outputs": [],
   "source": [
    "total_purchase = top_spenders['Price'].sum()\n"
   ]
  },
  {
   "cell_type": "code",
   "execution_count": 727,
   "metadata": {},
   "outputs": [],
   "source": [
    "top = pd.DataFrame( { \"Purchase Count\": purchase_count,\n",
    "               \"Average Purchase Price\": average_pur_price,\n",
    "               \"Total Purchase Value\": total_purchase })"
   ]
  },
  {
   "cell_type": "code",
   "execution_count": 728,
   "metadata": {},
   "outputs": [
    {
     "data": {
      "text/html": [
       "<div>\n",
       "<style>\n",
       "    .dataframe thead tr:only-child th {\n",
       "        text-align: right;\n",
       "    }\n",
       "\n",
       "    .dataframe thead th {\n",
       "        text-align: left;\n",
       "    }\n",
       "\n",
       "    .dataframe tbody tr th {\n",
       "        vertical-align: top;\n",
       "    }\n",
       "</style>\n",
       "<table border=\"1\" class=\"dataframe\">\n",
       "  <thead>\n",
       "    <tr style=\"text-align: right;\">\n",
       "      <th></th>\n",
       "      <th>Average Purchase Price</th>\n",
       "      <th>Purchase Count</th>\n",
       "      <th>Total Purchase Value</th>\n",
       "    </tr>\n",
       "    <tr>\n",
       "      <th>SN</th>\n",
       "      <th></th>\n",
       "      <th></th>\n",
       "      <th></th>\n",
       "    </tr>\n",
       "  </thead>\n",
       "  <tbody>\n",
       "    <tr>\n",
       "      <th>Adairialis76</th>\n",
       "      <td>2.460000</td>\n",
       "      <td>1</td>\n",
       "      <td>2.46</td>\n",
       "    </tr>\n",
       "    <tr>\n",
       "      <th>Aduephos78</th>\n",
       "      <td>2.233333</td>\n",
       "      <td>3</td>\n",
       "      <td>6.70</td>\n",
       "    </tr>\n",
       "    <tr>\n",
       "      <th>Aeduera68</th>\n",
       "      <td>1.933333</td>\n",
       "      <td>3</td>\n",
       "      <td>5.80</td>\n",
       "    </tr>\n",
       "    <tr>\n",
       "      <th>Aela49</th>\n",
       "      <td>2.460000</td>\n",
       "      <td>1</td>\n",
       "      <td>2.46</td>\n",
       "    </tr>\n",
       "    <tr>\n",
       "      <th>Aela59</th>\n",
       "      <td>1.270000</td>\n",
       "      <td>1</td>\n",
       "      <td>1.27</td>\n",
       "    </tr>\n",
       "  </tbody>\n",
       "</table>\n",
       "</div>"
      ],
      "text/plain": [
       "              Average Purchase Price  Purchase Count  Total Purchase Value\n",
       "SN                                                                        \n",
       "Adairialis76                2.460000               1                  2.46\n",
       "Aduephos78                  2.233333               3                  6.70\n",
       "Aeduera68                   1.933333               3                  5.80\n",
       "Aela49                      2.460000               1                  2.46\n",
       "Aela59                      1.270000               1                  1.27"
      ]
     },
     "execution_count": 728,
     "metadata": {},
     "output_type": "execute_result"
    }
   ],
   "source": [
    "top.head()"
   ]
  },
  {
   "cell_type": "code",
   "execution_count": 729,
   "metadata": {},
   "outputs": [
    {
     "data": {
      "text/html": [
       "<div>\n",
       "<style>\n",
       "    .dataframe thead tr:only-child th {\n",
       "        text-align: right;\n",
       "    }\n",
       "\n",
       "    .dataframe thead th {\n",
       "        text-align: left;\n",
       "    }\n",
       "\n",
       "    .dataframe tbody tr th {\n",
       "        vertical-align: top;\n",
       "    }\n",
       "</style>\n",
       "<table border=\"1\" class=\"dataframe\">\n",
       "  <thead>\n",
       "    <tr style=\"text-align: right;\">\n",
       "      <th></th>\n",
       "      <th>Average Purchase Price</th>\n",
       "      <th>Purchase Count</th>\n",
       "      <th>Total Purchase Value</th>\n",
       "    </tr>\n",
       "    <tr>\n",
       "      <th>SN</th>\n",
       "      <th></th>\n",
       "      <th></th>\n",
       "      <th></th>\n",
       "    </tr>\n",
       "  </thead>\n",
       "  <tbody>\n",
       "    <tr>\n",
       "      <th>Undirrala66</th>\n",
       "      <td>3.412000</td>\n",
       "      <td>5</td>\n",
       "      <td>17.06</td>\n",
       "    </tr>\n",
       "    <tr>\n",
       "      <th>Saedue76</th>\n",
       "      <td>3.390000</td>\n",
       "      <td>4</td>\n",
       "      <td>13.56</td>\n",
       "    </tr>\n",
       "    <tr>\n",
       "      <th>Mindimnya67</th>\n",
       "      <td>3.185000</td>\n",
       "      <td>4</td>\n",
       "      <td>12.74</td>\n",
       "    </tr>\n",
       "    <tr>\n",
       "      <th>Haellysu29</th>\n",
       "      <td>4.243333</td>\n",
       "      <td>3</td>\n",
       "      <td>12.73</td>\n",
       "    </tr>\n",
       "    <tr>\n",
       "      <th>Eoda93</th>\n",
       "      <td>3.860000</td>\n",
       "      <td>3</td>\n",
       "      <td>11.58</td>\n",
       "    </tr>\n",
       "  </tbody>\n",
       "</table>\n",
       "</div>"
      ],
      "text/plain": [
       "             Average Purchase Price  Purchase Count  Total Purchase Value\n",
       "SN                                                                       \n",
       "Undirrala66                3.412000               5                 17.06\n",
       "Saedue76                   3.390000               4                 13.56\n",
       "Mindimnya67                3.185000               4                 12.74\n",
       "Haellysu29                 4.243333               3                 12.73\n",
       "Eoda93                     3.860000               3                 11.58"
      ]
     },
     "execution_count": 729,
     "metadata": {},
     "output_type": "execute_result"
    }
   ],
   "source": [
    "# Sort in descending order\n",
    "top_five = top.sort_values(\"Total Purchase Value\", ascending=False)\n",
    "top_five.head()\n",
    "\n"
   ]
  },
  {
   "cell_type": "code",
   "execution_count": null,
   "metadata": {
    "collapsed": true
   },
   "outputs": [],
   "source": []
  },
  {
   "cell_type": "code",
   "execution_count": null,
   "metadata": {
    "collapsed": true
   },
   "outputs": [],
   "source": []
  },
  {
   "cell_type": "markdown",
   "metadata": {},
   "source": [
    "** Most Popular Items **\n",
    "\n"
   ]
  },
  {
   "cell_type": "code",
   "execution_count": 730,
   "metadata": {},
   "outputs": [],
   "source": [
    " purchase_count = df.groupby('Item ID')['Item ID'].count()\n"
   ]
  },
  {
   "cell_type": "code",
   "execution_count": 731,
   "metadata": {},
   "outputs": [],
   "source": [
    " total_purchase_value = df.groupby('Item ID')['Price'].sum()\n",
    "\n"
   ]
  },
  {
   "cell_type": "code",
   "execution_count": 732,
   "metadata": {},
   "outputs": [],
   "source": [
    "item_price = df.groupby('Item ID')['Price'].mean()\n"
   ]
  },
  {
   "cell_type": "code",
   "execution_count": 733,
   "metadata": {},
   "outputs": [],
   "source": [
    "popular = pd.DataFrame( { \"Purchase Count\": purchase_count,\n",
    "                \"Item Price\": item_price,\n",
    "                \"Total Purchase Value\": total_purchase_value })"
   ]
  },
  {
   "cell_type": "code",
   "execution_count": 734,
   "metadata": {},
   "outputs": [
    {
     "data": {
      "text/html": [
       "<div>\n",
       "<style>\n",
       "    .dataframe thead tr:only-child th {\n",
       "        text-align: right;\n",
       "    }\n",
       "\n",
       "    .dataframe thead th {\n",
       "        text-align: left;\n",
       "    }\n",
       "\n",
       "    .dataframe tbody tr th {\n",
       "        vertical-align: top;\n",
       "    }\n",
       "</style>\n",
       "<table border=\"1\" class=\"dataframe\">\n",
       "  <thead>\n",
       "    <tr style=\"text-align: right;\">\n",
       "      <th></th>\n",
       "      <th>Item Price</th>\n",
       "      <th>Purchase Count</th>\n",
       "      <th>Total Purchase Value</th>\n",
       "    </tr>\n",
       "    <tr>\n",
       "      <th>Item ID</th>\n",
       "      <th></th>\n",
       "      <th></th>\n",
       "      <th></th>\n",
       "    </tr>\n",
       "  </thead>\n",
       "  <tbody>\n",
       "    <tr>\n",
       "      <th>0</th>\n",
       "      <td>1.82</td>\n",
       "      <td>1</td>\n",
       "      <td>1.82</td>\n",
       "    </tr>\n",
       "    <tr>\n",
       "      <th>1</th>\n",
       "      <td>2.28</td>\n",
       "      <td>4</td>\n",
       "      <td>9.12</td>\n",
       "    </tr>\n",
       "    <tr>\n",
       "      <th>2</th>\n",
       "      <td>3.40</td>\n",
       "      <td>1</td>\n",
       "      <td>3.40</td>\n",
       "    </tr>\n",
       "    <tr>\n",
       "      <th>3</th>\n",
       "      <td>1.79</td>\n",
       "      <td>1</td>\n",
       "      <td>1.79</td>\n",
       "    </tr>\n",
       "    <tr>\n",
       "      <th>4</th>\n",
       "      <td>2.28</td>\n",
       "      <td>1</td>\n",
       "      <td>2.28</td>\n",
       "    </tr>\n",
       "  </tbody>\n",
       "</table>\n",
       "</div>"
      ],
      "text/plain": [
       "         Item Price  Purchase Count  Total Purchase Value\n",
       "Item ID                                                  \n",
       "0              1.82               1                  1.82\n",
       "1              2.28               4                  9.12\n",
       "2              3.40               1                  3.40\n",
       "3              1.79               1                  1.79\n",
       "4              2.28               1                  2.28"
      ]
     },
     "execution_count": 734,
     "metadata": {},
     "output_type": "execute_result"
    }
   ],
   "source": [
    "popular.head()"
   ]
  },
  {
   "cell_type": "code",
   "execution_count": 735,
   "metadata": {},
   "outputs": [
    {
     "data": {
      "text/html": [
       "<div>\n",
       "<style>\n",
       "    .dataframe thead tr:only-child th {\n",
       "        text-align: right;\n",
       "    }\n",
       "\n",
       "    .dataframe thead th {\n",
       "        text-align: left;\n",
       "    }\n",
       "\n",
       "    .dataframe tbody tr th {\n",
       "        vertical-align: top;\n",
       "    }\n",
       "</style>\n",
       "<table border=\"1\" class=\"dataframe\">\n",
       "  <thead>\n",
       "    <tr style=\"text-align: right;\">\n",
       "      <th></th>\n",
       "      <th>Item Price</th>\n",
       "      <th>Purchase Count</th>\n",
       "      <th>Total Purchase Value</th>\n",
       "    </tr>\n",
       "    <tr>\n",
       "      <th>Item ID</th>\n",
       "      <th></th>\n",
       "      <th></th>\n",
       "      <th></th>\n",
       "    </tr>\n",
       "  </thead>\n",
       "  <tbody>\n",
       "    <tr>\n",
       "      <th>39</th>\n",
       "      <td>2.35</td>\n",
       "      <td>11</td>\n",
       "      <td>25.85</td>\n",
       "    </tr>\n",
       "    <tr>\n",
       "      <th>84</th>\n",
       "      <td>2.23</td>\n",
       "      <td>11</td>\n",
       "      <td>24.53</td>\n",
       "    </tr>\n",
       "    <tr>\n",
       "      <th>31</th>\n",
       "      <td>2.07</td>\n",
       "      <td>9</td>\n",
       "      <td>18.63</td>\n",
       "    </tr>\n",
       "    <tr>\n",
       "      <th>175</th>\n",
       "      <td>1.24</td>\n",
       "      <td>9</td>\n",
       "      <td>11.16</td>\n",
       "    </tr>\n",
       "    <tr>\n",
       "      <th>13</th>\n",
       "      <td>1.49</td>\n",
       "      <td>9</td>\n",
       "      <td>13.41</td>\n",
       "    </tr>\n",
       "  </tbody>\n",
       "</table>\n",
       "</div>"
      ],
      "text/plain": [
       "         Item Price  Purchase Count  Total Purchase Value\n",
       "Item ID                                                  \n",
       "39             2.35              11                 25.85\n",
       "84             2.23              11                 24.53\n",
       "31             2.07               9                 18.63\n",
       "175            1.24               9                 11.16\n",
       "13             1.49               9                 13.41"
      ]
     },
     "execution_count": 735,
     "metadata": {},
     "output_type": "execute_result"
    }
   ],
   "source": [
    "# top five popular items\n",
    "popular.sort_values(\"Purchase Count\", ascending=False).head()"
   ]
  },
  {
   "cell_type": "code",
   "execution_count": null,
   "metadata": {
    "collapsed": true
   },
   "outputs": [],
   "source": []
  },
  {
   "cell_type": "code",
   "execution_count": null,
   "metadata": {
    "collapsed": true
   },
   "outputs": [],
   "source": []
  },
  {
   "cell_type": "markdown",
   "metadata": {},
   "source": [
    "** Most Profitable Items **"
   ]
  },
  {
   "cell_type": "code",
   "execution_count": 736,
   "metadata": {},
   "outputs": [],
   "source": [
    " purchase_count = df.groupby('Item ID')['Item ID'].count()"
   ]
  },
  {
   "cell_type": "code",
   "execution_count": 737,
   "metadata": {},
   "outputs": [],
   "source": [
    " total_purchase_value = df.groupby('Item ID')['Price'].sum()"
   ]
  },
  {
   "cell_type": "code",
   "execution_count": 738,
   "metadata": {},
   "outputs": [],
   "source": [
    "item_price = df.groupby('Item ID')['Price'].mean()"
   ]
  },
  {
   "cell_type": "code",
   "execution_count": 739,
   "metadata": {},
   "outputs": [],
   "source": [
    "profit = pd.DataFrame( { \"Purchase Count\": purchase_count,\n",
    "                \"Item Price\": item_price,\n",
    "                \"Total Purchase Value\": total_purchase_value })"
   ]
  },
  {
   "cell_type": "code",
   "execution_count": 740,
   "metadata": {
    "scrolled": true
   },
   "outputs": [
    {
     "data": {
      "text/html": [
       "<div>\n",
       "<style>\n",
       "    .dataframe thead tr:only-child th {\n",
       "        text-align: right;\n",
       "    }\n",
       "\n",
       "    .dataframe thead th {\n",
       "        text-align: left;\n",
       "    }\n",
       "\n",
       "    .dataframe tbody tr th {\n",
       "        vertical-align: top;\n",
       "    }\n",
       "</style>\n",
       "<table border=\"1\" class=\"dataframe\">\n",
       "  <thead>\n",
       "    <tr style=\"text-align: right;\">\n",
       "      <th></th>\n",
       "      <th>Item Price</th>\n",
       "      <th>Purchase Count</th>\n",
       "      <th>Total Purchase Value</th>\n",
       "    </tr>\n",
       "    <tr>\n",
       "      <th>Item ID</th>\n",
       "      <th></th>\n",
       "      <th></th>\n",
       "      <th></th>\n",
       "    </tr>\n",
       "  </thead>\n",
       "  <tbody>\n",
       "    <tr>\n",
       "      <th>0</th>\n",
       "      <td>1.82</td>\n",
       "      <td>1</td>\n",
       "      <td>1.82</td>\n",
       "    </tr>\n",
       "    <tr>\n",
       "      <th>1</th>\n",
       "      <td>2.28</td>\n",
       "      <td>4</td>\n",
       "      <td>9.12</td>\n",
       "    </tr>\n",
       "    <tr>\n",
       "      <th>2</th>\n",
       "      <td>3.40</td>\n",
       "      <td>1</td>\n",
       "      <td>3.40</td>\n",
       "    </tr>\n",
       "    <tr>\n",
       "      <th>3</th>\n",
       "      <td>1.79</td>\n",
       "      <td>1</td>\n",
       "      <td>1.79</td>\n",
       "    </tr>\n",
       "    <tr>\n",
       "      <th>4</th>\n",
       "      <td>2.28</td>\n",
       "      <td>1</td>\n",
       "      <td>2.28</td>\n",
       "    </tr>\n",
       "  </tbody>\n",
       "</table>\n",
       "</div>"
      ],
      "text/plain": [
       "         Item Price  Purchase Count  Total Purchase Value\n",
       "Item ID                                                  \n",
       "0              1.82               1                  1.82\n",
       "1              2.28               4                  9.12\n",
       "2              3.40               1                  3.40\n",
       "3              1.79               1                  1.79\n",
       "4              2.28               1                  2.28"
      ]
     },
     "execution_count": 740,
     "metadata": {},
     "output_type": "execute_result"
    }
   ],
   "source": [
    "profit.head()"
   ]
  },
  {
   "cell_type": "code",
   "execution_count": 741,
   "metadata": {},
   "outputs": [
    {
     "data": {
      "text/html": [
       "<div>\n",
       "<style>\n",
       "    .dataframe thead tr:only-child th {\n",
       "        text-align: right;\n",
       "    }\n",
       "\n",
       "    .dataframe thead th {\n",
       "        text-align: left;\n",
       "    }\n",
       "\n",
       "    .dataframe tbody tr th {\n",
       "        vertical-align: top;\n",
       "    }\n",
       "</style>\n",
       "<table border=\"1\" class=\"dataframe\">\n",
       "  <thead>\n",
       "    <tr style=\"text-align: right;\">\n",
       "      <th></th>\n",
       "      <th>Item Price</th>\n",
       "      <th>Purchase Count</th>\n",
       "      <th>Total Purchase Value</th>\n",
       "    </tr>\n",
       "    <tr>\n",
       "      <th>Item ID</th>\n",
       "      <th></th>\n",
       "      <th></th>\n",
       "      <th></th>\n",
       "    </tr>\n",
       "  </thead>\n",
       "  <tbody>\n",
       "    <tr>\n",
       "      <th>34</th>\n",
       "      <td>4.14</td>\n",
       "      <td>9</td>\n",
       "      <td>37.26</td>\n",
       "    </tr>\n",
       "    <tr>\n",
       "      <th>115</th>\n",
       "      <td>4.25</td>\n",
       "      <td>7</td>\n",
       "      <td>29.75</td>\n",
       "    </tr>\n",
       "    <tr>\n",
       "      <th>32</th>\n",
       "      <td>4.95</td>\n",
       "      <td>6</td>\n",
       "      <td>29.70</td>\n",
       "    </tr>\n",
       "    <tr>\n",
       "      <th>103</th>\n",
       "      <td>4.87</td>\n",
       "      <td>6</td>\n",
       "      <td>29.22</td>\n",
       "    </tr>\n",
       "    <tr>\n",
       "      <th>107</th>\n",
       "      <td>3.61</td>\n",
       "      <td>8</td>\n",
       "      <td>28.88</td>\n",
       "    </tr>\n",
       "  </tbody>\n",
       "</table>\n",
       "</div>"
      ],
      "text/plain": [
       "         Item Price  Purchase Count  Total Purchase Value\n",
       "Item ID                                                  \n",
       "34             4.14               9                 37.26\n",
       "115            4.25               7                 29.75\n",
       "32             4.95               6                 29.70\n",
       "103            4.87               6                 29.22\n",
       "107            3.61               8                 28.88"
      ]
     },
     "execution_count": 741,
     "metadata": {},
     "output_type": "execute_result"
    }
   ],
   "source": [
    "profit.sort_values(\"Total Purchase Value\", ascending=False).head()"
   ]
  },
  {
   "cell_type": "code",
   "execution_count": null,
   "metadata": {
    "collapsed": true
   },
   "outputs": [],
   "source": []
  },
  {
   "cell_type": "code",
   "execution_count": null,
   "metadata": {
    "collapsed": true
   },
   "outputs": [],
   "source": []
  },
  {
   "cell_type": "code",
   "execution_count": null,
   "metadata": {
    "collapsed": true
   },
   "outputs": [],
   "source": []
  },
  {
   "cell_type": "code",
   "execution_count": null,
   "metadata": {
    "collapsed": true
   },
   "outputs": [],
   "source": []
  }
 ],
 "metadata": {
  "kernelspec": {
   "display_name": "Python 3",
   "language": "python",
   "name": "python3"
  },
  "language_info": {
   "codemirror_mode": {
    "name": "ipython",
    "version": 3
   },
   "file_extension": ".py",
   "mimetype": "text/x-python",
   "name": "python",
   "nbconvert_exporter": "python",
   "pygments_lexer": "ipython3",
   "version": "3.6.3"
  }
 },
 "nbformat": 4,
 "nbformat_minor": 2
}
